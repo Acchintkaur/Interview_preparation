{
 "cells": [
  {
   "cell_type": "code",
   "execution_count": 32,
   "metadata": {},
   "outputs": [],
   "source": [
    "import numpy as np"
   ]
  },
  {
   "cell_type": "markdown",
   "metadata": {},
   "source": [
    "String Operations Methods"
   ]
  },
  {
   "cell_type": "code",
   "execution_count": 33,
   "metadata": {},
   "outputs": [],
   "source": [
    "ch_name = \"Indian AI Production\" # create string\n",
    "str1 = \"Learning Python NumPy\""
   ]
  },
  {
   "cell_type": "markdown",
   "metadata": {},
   "source": [
    "np.char.add()"
   ]
  },
  {
   "cell_type": "code",
   "execution_count": 34,
   "metadata": {},
   "outputs": [
    {
     "name": "stdout",
     "output_type": "stream",
     "text": [
      "Added two string ch_name and str1 =  Indian AI ProductionLearning Python NumPy\n"
     ]
    }
   ],
   "source": [
    "add_string = np.char.add(ch_name, str1) # add two strings ch_name and str1\n",
    "print(\"Added two string ch_name and str1 = \", add_string)"
   ]
  },
  {
   "cell_type": "markdown",
   "metadata": {},
   "source": [
    "np.char.multiply()"
   ]
  },
  {
   "cell_type": "code",
   "execution_count": 35,
   "metadata": {},
   "outputs": [
    {
     "name": "stdout",
     "output_type": "stream",
     "text": [
      "Duplicated ch_name =  Indian AI ProductionIndian AI Production\n"
     ]
    }
   ],
   "source": [
    "duplicate_ch_name = np.char.multiply(ch_name, 2) # multiply ch_name 2 times\n",
    "print(\"Duplicated ch_name = \", duplicate_ch_name)"
   ]
  },
  {
   "cell_type": "markdown",
   "metadata": {},
   "source": [
    "np.char.capitalize()"
   ]
  },
  {
   "cell_type": "code",
   "execution_count": 36,
   "metadata": {},
   "outputs": [
    {
     "name": "stdout",
     "output_type": "stream",
     "text": [
      "Capitalize ch_name =  Indian ai production\n"
     ]
    }
   ],
   "source": [
    "cap_ch_name = np.char.capitalize(ch_name) # capital ch_name\n",
    "print(\"Capitalize ch_name = \", cap_ch_name)"
   ]
  },
  {
   "cell_type": "markdown",
   "metadata": {},
   "source": [
    "np.char.lower()"
   ]
  },
  {
   "cell_type": "code",
   "execution_count": 37,
   "metadata": {},
   "outputs": [
    {
     "name": "stdout",
     "output_type": "stream",
     "text": [
      "Lower ch_name =  indian ai production\n"
     ]
    }
   ],
   "source": [
    "low_ch_name = np.char.lower(ch_name) # lower ch_name\n",
    "print(\"Lower ch_name = \", low_ch_name)"
   ]
  },
  {
   "cell_type": "markdown",
   "metadata": {},
   "source": [
    "np.char.upper()"
   ]
  },
  {
   "cell_type": "code",
   "execution_count": 38,
   "metadata": {},
   "outputs": [
    {
     "name": "stdout",
     "output_type": "stream",
     "text": [
      "Upper ch_name =  INDIAN AI PRODUCTION\n"
     ]
    }
   ],
   "source": [
    "upp_ch_name = np.char.upper(ch_name) # upper ch_name\n",
    "print(\"Upper ch_name = \", upp_ch_name)"
   ]
  },
  {
   "cell_type": "markdown",
   "metadata": {},
   "source": [
    "np.char.title()"
   ]
  },
  {
   "cell_type": "code",
   "execution_count": 39,
   "metadata": {},
   "outputs": [
    {
     "name": "stdout",
     "output_type": "stream",
     "text": [
      "Title upp_ch_name =  Indian Ai Production\n"
     ]
    }
   ],
   "source": [
    "tit_upp_ch_name = np.char.title(upp_ch_name) # title upp_ch_name\n",
    "print(\"Title upp_ch_name = \", tit_upp_ch_name)"
   ]
  },
  {
   "cell_type": "markdown",
   "metadata": {},
   "source": [
    "np.char.center()"
   ]
  },
  {
   "cell_type": "code",
   "execution_count": 40,
   "metadata": {},
   "outputs": [
    {
     "name": "stdout",
     "output_type": "stream",
     "text": [
      "Center ch_name =  *****Indian AI Production*****\n"
     ]
    }
   ],
   "source": [
    "cen_ch_name = np.char.center(ch_name, 30, fillchar = \"*\") # center upp_ch_name\n",
    "print(\"Center ch_name = \", cen_ch_name) # print cen_ch_name"
   ]
  },
  {
   "cell_type": "markdown",
   "metadata": {},
   "source": [
    "np.char.split()"
   ]
  },
  {
   "cell_type": "code",
   "execution_count": 41,
   "metadata": {},
   "outputs": [
    {
     "name": "stdout",
     "output_type": "stream",
     "text": [
      "Split spl_ch_name =  ['Indian', 'AI', 'Production']\n"
     ]
    }
   ],
   "source": [
    "spl_ch_name = np.char.split(ch_name) # split ch_name\n",
    "print(\"Split spl_ch_name = \", spl_ch_name) # print spl_ch_name"
   ]
  },
  {
   "cell_type": "markdown",
   "metadata": {},
   "source": [
    "np.char.splitlines()"
   ]
  },
  {
   "cell_type": "code",
   "execution_count": 42,
   "metadata": {},
   "outputs": [
    {
     "name": "stdout",
     "output_type": "stream",
     "text": [
      "Splitlines  =  ['Indian', 'Ai', 'Production']\n"
     ]
    }
   ],
   "source": [
    "splitlines_str = np.char.splitlines(\"Indian\\nAi\\nProduction\") # splitlines string\n",
    "print(\"Splitlines  = \", splitlines_str ) # print splitlines_str "
   ]
  },
  {
   "cell_type": "markdown",
   "metadata": {},
   "source": [
    "np.char.join()"
   ]
  },
  {
   "cell_type": "code",
   "execution_count": 43,
   "metadata": {},
   "outputs": [
    {
     "name": "stdout",
     "output_type": "stream",
     "text": [
      "Joint dmy by : and / =  ['d:m:y' 'd/m/y']\n"
     ]
    }
   ],
   "source": [
    "join_dmy = np.char.join([\":\", \"/\"], [\"dmy\", \"dmy\"])\n",
    "print(\"Joint dmy by : and / = \", join_dmy)"
   ]
  },
  {
   "cell_type": "markdown",
   "metadata": {},
   "source": [
    "np.char.replace()"
   ]
  },
  {
   "cell_type": "code",
   "execution_count": 44,
   "metadata": {},
   "outputs": [
    {
     "name": "stdout",
     "output_type": "stream",
     "text": [
      "Replace old string by new =  Indian Artificial Intelligence Production\n"
     ]
    }
   ],
   "source": [
    "# Replace \"AI\" by \"Artificial Intelligence\" from ch_name\n",
    "rep_ch_name = np.char.replace(ch_name, \"AI\", \"Artificial Intelligence\")\n",
    "print(\"Replace old string by new = \", rep_ch_name)"
   ]
  },
  {
   "cell_type": "markdown",
   "metadata": {},
   "source": [
    "np.char.equal()"
   ]
  },
  {
   "cell_type": "code",
   "execution_count": 45,
   "metadata": {},
   "outputs": [
    {
     "name": "stdout",
     "output_type": "stream",
     "text": [
      "Is ch_name equal to str1 =  False\n"
     ]
    }
   ],
   "source": [
    "equ_str = np.char.equal(ch_name, str1) # check equality\n",
    "print(\"Is ch_name equal to str1 = \", equ_str ) "
   ]
  },
  {
   "cell_type": "markdown",
   "metadata": {},
   "source": [
    "np.char.not_equal()"
   ]
  },
  {
   "cell_type": "code",
   "execution_count": 46,
   "metadata": {},
   "outputs": [
    {
     "name": "stdout",
     "output_type": "stream",
     "text": [
      "Is ch_name not equal to str1 =  False\n"
     ]
    }
   ],
   "source": [
    "not_equ_str = np.char.equal(ch_name, str1) # check  non equality\n",
    "print(\"Is ch_name not equal to str1 = \", equ_str ) "
   ]
  },
  {
   "cell_type": "markdown",
   "metadata": {},
   "source": [
    "np.char.count()"
   ]
  },
  {
   "cell_type": "code",
   "execution_count": 47,
   "metadata": {},
   "outputs": [
    {
     "name": "stdout",
     "output_type": "stream",
     "text": [
      "Character 'A' present  1  times in a string -  Indian AI Production\n"
     ]
    }
   ],
   "source": [
    "count_A = np.char.count(ch_name, \"A\") # count string \"A\"\n",
    "print(\"Character 'A' present \", count_A , \" times in a string - \", ch_name) "
   ]
  },
  {
   "cell_type": "markdown",
   "metadata": {},
   "source": [
    "np.char.find()"
   ]
  },
  {
   "cell_type": "code",
   "execution_count": 48,
   "metadata": {},
   "outputs": [
    {
     "name": "stdout",
     "output_type": "stream",
     "text": [
      "String  'AI' found at index  1  from string -  Indian AI Production\n"
     ]
    }
   ],
   "source": [
    "find_AI = np.char.count(ch_name, \"AI\") # Find string \"AI\"\n",
    "print(\"String  'AI' found at index \", find_AI , \" from string - \", ch_name) "
   ]
  },
  {
   "cell_type": "markdown",
   "metadata": {},
   "source": [
    "np.char.index()"
   ]
  },
  {
   "cell_type": "code",
   "execution_count": 49,
   "metadata": {},
   "outputs": [],
   "source": [
    "# index_AI = np.char.index(ch_name, \"m\") # Find index \"m\"\n",
    "# print(\"Index of 'm' string found at - \", find_AI , \" from string - \", ch_name) "
   ]
  },
  {
   "cell_type": "markdown",
   "metadata": {},
   "source": [
    "np.char.isalpha()"
   ]
  },
  {
   "cell_type": "code",
   "execution_count": 50,
   "metadata": {},
   "outputs": [
    {
     "name": "stdout",
     "output_type": "stream",
     "text": [
      "Is String 'Hello' alphabet -  True\n"
     ]
    }
   ],
   "source": [
    "str_isalpha = np.char.isalpha(\"Hello\") \n",
    "print(\"Is String 'Hello' alphabet - \", str_isalpha ) "
   ]
  },
  {
   "cell_type": "markdown",
   "metadata": {},
   "source": [
    "np.char.isdecimal()"
   ]
  },
  {
   "cell_type": "code",
   "execution_count": 51,
   "metadata": {},
   "outputs": [
    {
     "name": "stdout",
     "output_type": "stream",
     "text": [
      "Is String 'Hello' decimal -  False\n"
     ]
    }
   ],
   "source": [
    "str_isdecimal = np.char.isdecimal(\"Hello\") \n",
    "print(\"Is String 'Hello' decimal - \", str_isdecimal )"
   ]
  },
  {
   "cell_type": "markdown",
   "metadata": {},
   "source": [
    "np.char.isdigit()"
   ]
  },
  {
   "cell_type": "code",
   "execution_count": 52,
   "metadata": {},
   "outputs": [
    {
     "name": "stdout",
     "output_type": "stream",
     "text": [
      "Is String 'Hello' digit -  False\n"
     ]
    }
   ],
   "source": [
    "str_isdigit = np.char.isdigit(\"Hello\") \n",
    "print(\"Is String 'Hello' digit - \", str_isdigit )"
   ]
  },
  {
   "cell_type": "markdown",
   "metadata": {},
   "source": [
    "np.char.islower()"
   ]
  },
  {
   "cell_type": "code",
   "execution_count": 53,
   "metadata": {},
   "outputs": [
    {
     "name": "stdout",
     "output_type": "stream",
     "text": [
      "Is String 'Hello' lower -  False\n"
     ]
    }
   ],
   "source": [
    "str_islower = np.char.islower(\"Hello\") \n",
    "print(\"Is String 'Hello' lower - \", str_islower )"
   ]
  },
  {
   "cell_type": "markdown",
   "metadata": {},
   "source": [
    "np.char.isupper()"
   ]
  },
  {
   "cell_type": "code",
   "execution_count": 54,
   "metadata": {},
   "outputs": [
    {
     "name": "stdout",
     "output_type": "stream",
     "text": [
      "Is String 'Hello India' uppercase -  False\n"
     ]
    }
   ],
   "source": [
    "str_isupper = np.char.isupper(\"Hello India\") \n",
    "print(\"Is String 'Hello India' uppercase - \", str_isupper )"
   ]
  },
  {
   "cell_type": "markdown",
   "metadata": {},
   "source": [
    "np.char.isnumeric()"
   ]
  },
  {
   "cell_type": "code",
   "execution_count": 55,
   "metadata": {},
   "outputs": [
    {
     "name": "stdout",
     "output_type": "stream",
     "text": [
      "Is String 'Hello' numeric -  False\n"
     ]
    }
   ],
   "source": [
    "str_isnumeric = np.char.isnumeric(\"Hello\") \n",
    "print(\"Is String 'Hello' numeric - \", str_isnumeric )\n"
   ]
  },
  {
   "cell_type": "markdown",
   "metadata": {},
   "source": [
    "np.char.isspace()"
   ]
  },
  {
   "cell_type": "code",
   "execution_count": 56,
   "metadata": {},
   "outputs": [
    {
     "name": "stdout",
     "output_type": "stream",
     "text": [
      "Is String 'Hello India' space -  False\n"
     ]
    }
   ],
   "source": [
    "str_isspace = np.char.isspace(\"Hello India\") \n",
    "print(\"Is String 'Hello India' space - \", str_isspace )"
   ]
  }
 ],
 "metadata": {
  "kernelspec": {
   "display_name": "Python 3.10.4 64-bit",
   "language": "python",
   "name": "python3"
  },
  "language_info": {
   "codemirror_mode": {
    "name": "ipython",
    "version": 3
   },
   "file_extension": ".py",
   "mimetype": "text/x-python",
   "name": "python",
   "nbconvert_exporter": "python",
   "pygments_lexer": "ipython3",
   "version": "3.10.4"
  },
  "orig_nbformat": 4,
  "vscode": {
   "interpreter": {
    "hash": "fbc768028c3e6ead51d9a200ddcb2ec858ae62844dcd1994729a8279be9b48f2"
   }
  }
 },
 "nbformat": 4,
 "nbformat_minor": 2
}
