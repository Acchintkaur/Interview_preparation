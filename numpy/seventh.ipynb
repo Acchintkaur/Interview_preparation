{
 "cells": [
  {
   "cell_type": "markdown",
   "metadata": {},
   "source": [
    "Random sampling"
   ]
  },
  {
   "cell_type": "code",
   "execution_count": 2,
   "metadata": {},
   "outputs": [],
   "source": [
    "import numpy as np\n",
    "import random"
   ]
  },
  {
   "cell_type": "code",
   "execution_count": 7,
   "metadata": {},
   "outputs": [
    {
     "data": {
      "text/plain": [
       "array([0.08084135, 0.36104405, 0.53999513, 0.1868294 ])"
      ]
     },
     "execution_count": 7,
     "metadata": {},
     "output_type": "execute_result"
    }
   ],
   "source": [
    "# random.random gives values between 0 and 1 \n",
    "np.random.random(4)"
   ]
  },
  {
   "cell_type": "code",
   "execution_count": 8,
   "metadata": {},
   "outputs": [
    {
     "data": {
      "text/plain": [
       "array([[0.10523597, 0.67995106, 0.25088074],\n",
       "       [0.54617864, 0.03634822, 0.37035838],\n",
       "       [0.84641954, 0.3802595 , 0.55221097]])"
      ]
     },
     "execution_count": 8,
     "metadata": {},
     "output_type": "execute_result"
    }
   ],
   "source": [
    "np.random.random((3,3))"
   ]
  },
  {
   "cell_type": "code",
   "execution_count": 9,
   "metadata": {},
   "outputs": [
    {
     "data": {
      "text/plain": [
       "1"
      ]
     },
     "execution_count": 9,
     "metadata": {},
     "output_type": "execute_result"
    }
   ],
   "source": [
    "# if we want integer values use randint\n",
    "np.random.randint(1,4)"
   ]
  },
  {
   "cell_type": "code",
   "execution_count": 16,
   "metadata": {},
   "outputs": [
    {
     "data": {
      "text/plain": [
       "2"
      ]
     },
     "execution_count": 16,
     "metadata": {},
     "output_type": "execute_result"
    }
   ],
   "source": [
    "# if we want integer values use randint\n",
    "np.random.randint(1,4)"
   ]
  },
  {
   "cell_type": "code",
   "execution_count": 17,
   "metadata": {},
   "outputs": [
    {
     "data": {
      "text/plain": [
       "array([[1, 2, 2, 2],\n",
       "       [3, 1, 2, 1],\n",
       "       [3, 2, 3, 2],\n",
       "       [3, 1, 1, 2]])"
      ]
     },
     "execution_count": 17,
     "metadata": {},
     "output_type": "execute_result"
    }
   ],
   "source": [
    "np.random.randint(1,4,(4,4))"
   ]
  },
  {
   "cell_type": "code",
   "execution_count": 18,
   "metadata": {},
   "outputs": [
    {
     "data": {
      "text/plain": [
       "array([[[2, 3, 1, 2],\n",
       "        [1, 3, 2, 2],\n",
       "        [1, 1, 3, 1],\n",
       "        [3, 2, 3, 1]],\n",
       "\n",
       "       [[2, 3, 2, 1],\n",
       "        [2, 3, 1, 2],\n",
       "        [1, 2, 1, 3],\n",
       "        [1, 3, 2, 3]]])"
      ]
     },
     "execution_count": 18,
     "metadata": {},
     "output_type": "execute_result"
    }
   ],
   "source": [
    "# if we want integer values use randint\n",
    "np.random.randint(1,4,(2,4,4))"
   ]
  },
  {
   "cell_type": "code",
   "execution_count": 19,
   "metadata": {},
   "outputs": [
    {
     "name": "stdout",
     "output_type": "stream",
     "text": [
      "[[[2 2 1 1]\n",
      "  [2 1 2 2]\n",
      "  [1 2 2 3]\n",
      "  [1 2 1 3]]\n",
      "\n",
      " [[1 3 1 1]\n",
      "  [1 3 1 3]\n",
      "  [3 2 1 1]\n",
      "  [3 2 3 2]]]\n"
     ]
    }
   ],
   "source": [
    "np.random.seed(10)\n",
    "rd_3D_arr = np.random.randint(1,4, (2,4,4))\n",
    "print(rd_3D_arr)"
   ]
  },
  {
   "cell_type": "code",
   "execution_count": 20,
   "metadata": {},
   "outputs": [
    {
     "name": "stdout",
     "output_type": "stream",
     "text": [
      "[[[2 2 1 1]\n",
      "  [2 1 2 2]\n",
      "  [1 2 2 3]\n",
      "  [1 2 1 3]]\n",
      "\n",
      " [[1 3 1 1]\n",
      "  [1 3 1 3]\n",
      "  [3 2 1 1]\n",
      "  [3 2 3 2]]]\n"
     ]
    }
   ],
   "source": [
    "np.random.seed(10)\n",
    "rd_3D_arr = np.random.randint(1,4, (2,4,4))\n",
    "print(rd_3D_arr)\n",
    "# The seed function accepts value up to  2^32 -1 (4294967295)"
   ]
  },
  {
   "cell_type": "markdown",
   "metadata": {},
   "source": [
    "np.random.rand()"
   ]
  },
  {
   "cell_type": "code",
   "execution_count": 21,
   "metadata": {},
   "outputs": [
    {
     "name": "stdout",
     "output_type": "stream",
     "text": [
      "[[0.13145815 0.41366737 0.77872881]\n",
      " [0.58390137 0.18263144 0.82608225]\n",
      " [0.10540183 0.28357668 0.06556327]]\n"
     ]
    }
   ],
   "source": [
    "arr_2D = np.random.rand(3,3) # return  3 x 3 matrix\n",
    "print(arr_2D)"
   ]
  },
  {
   "cell_type": "markdown",
   "metadata": {},
   "source": [
    "np.random.randn()"
   ]
  },
  {
   "cell_type": "code",
   "execution_count": 27,
   "metadata": {},
   "outputs": [
    {
     "name": "stdout",
     "output_type": "stream",
     "text": [
      "[[ 0.7434177  -0.56543268  0.00785023]\n",
      " [-1.12679091  1.513816   -0.60729449]\n",
      " [ 0.4183223   0.98655675 -0.30135904]]\n"
     ]
    }
   ],
   "source": [
    "arr_2D = np.random.randn(3,3)\n",
    "print(arr_2D)"
   ]
  },
  {
   "cell_type": "markdown",
   "metadata": {},
   "source": [
    "np.random.choice()"
   ]
  },
  {
   "cell_type": "code",
   "execution_count": 28,
   "metadata": {},
   "outputs": [
    {
     "name": "stdout",
     "output_type": "stream",
     "text": [
      "2\n"
     ]
    }
   ],
   "source": [
    "x = [1,2,3,4] # list\n",
    "choice_from_x = np.random.choice(x) # retun random single item from sequence\n",
    "print(choice_from_x )"
   ]
  },
  {
   "cell_type": "code",
   "execution_count": 29,
   "metadata": {},
   "outputs": [
    {
     "name": "stdout",
     "output_type": "stream",
     "text": [
      "4\n",
      "2\n",
      "4\n",
      "3\n",
      "2\n",
      "4\n",
      "2\n",
      "2\n",
      "4\n",
      "4\n",
      "1\n",
      "1\n",
      "2\n",
      "2\n",
      "1\n",
      "2\n",
      "4\n",
      "4\n",
      "3\n",
      "4\n"
     ]
    }
   ],
   "source": [
    "for i in range(20):\n",
    "    print(np.random.choice(x))"
   ]
  },
  {
   "cell_type": "markdown",
   "metadata": {},
   "source": [
    "np.random.permutation()"
   ]
  },
  {
   "cell_type": "code",
   "execution_count": 30,
   "metadata": {},
   "outputs": [
    {
     "name": "stdout",
     "output_type": "stream",
     "text": [
      "[3 4 2 1]\n"
     ]
    }
   ],
   "source": [
    "x_permute = np.random.permutation(x)\n",
    "print(x_permute)"
   ]
  }
 ],
 "metadata": {
  "kernelspec": {
   "display_name": "Python 3.10.4 64-bit",
   "language": "python",
   "name": "python3"
  },
  "language_info": {
   "codemirror_mode": {
    "name": "ipython",
    "version": 3
   },
   "file_extension": ".py",
   "mimetype": "text/x-python",
   "name": "python",
   "nbconvert_exporter": "python",
   "pygments_lexer": "ipython3",
   "version": "3.10.4"
  },
  "orig_nbformat": 4,
  "vscode": {
   "interpreter": {
    "hash": "fbc768028c3e6ead51d9a200ddcb2ec858ae62844dcd1994729a8279be9b48f2"
   }
  }
 },
 "nbformat": 4,
 "nbformat_minor": 2
}
