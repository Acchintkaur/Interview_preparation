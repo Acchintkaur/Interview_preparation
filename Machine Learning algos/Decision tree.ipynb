{
 "cells": [
  {
   "cell_type": "markdown",
   "metadata": {},
   "source": [
    "Import Libraries"
   ]
  },
  {
   "cell_type": "code",
   "execution_count": 81,
   "metadata": {},
   "outputs": [],
   "source": [
    "import numpy as np\n",
    "import pandas as pd\n",
    "from sklearn.preprocessing import LabelEncoder\n",
    "from sklearn.model_selection import train_test_split\n",
    "from sklearn.tree import DecisionTreeClassifier\n",
    "from sklearn.metrics import classification_report, confusion_matrix, accuracy_score\n"
   ]
  },
  {
   "cell_type": "markdown",
   "metadata": {},
   "source": [
    "Load the dataset"
   ]
  },
  {
   "cell_type": "code",
   "execution_count": 82,
   "metadata": {},
   "outputs": [],
   "source": [
    "def importdata():\n",
    "    df = pd.read_csv('..\\Machine_Learning_algos\\weather.csv')\n",
    "    return df"
   ]
  },
  {
   "cell_type": "markdown",
   "metadata": {},
   "source": [
    "Transform non-numeric values(as long as they are hashable and comparable) to numeric values"
   ]
  },
  {
   "cell_type": "code",
   "execution_count": 83,
   "metadata": {},
   "outputs": [],
   "source": [
    "def use_labelEncoder(df):\n",
    "    Le = LabelEncoder()\n",
    "    for i in df.columns:\n",
    "        df[i] = Le.fit_transform(df[i])\n",
    "    return df\n"
   ]
  },
  {
   "cell_type": "markdown",
   "metadata": {},
   "source": [
    "Split the dataset into Train and Test\n",
    "\n",
    "y - holds all the decisions.\n",
    "X - holds the training data."
   ]
  },
  {
   "cell_type": "code",
   "execution_count": 84,
   "metadata": {},
   "outputs": [],
   "source": [
    "def splitdataset(balance_data):\n",
    "    \n",
    "    # Separating the target variable\n",
    "    X = balance_data['Play Golf']\n",
    "    y = balance_data.drop('Play Golf',axis=1)\n",
    "  \n",
    "    X_train, X_test, y_train, y_test = train_test_split( \n",
    "    X, y, test_size = 0.3, random_state = 100)\n",
    "      \n",
    "    return X, y, X_train, X_test, y_train, y_test"
   ]
  },
  {
   "cell_type": "markdown",
   "metadata": {},
   "source": [
    "Perform training with GiniIndex"
   ]
  },
  {
   "cell_type": "code",
   "execution_count": 85,
   "metadata": {},
   "outputs": [],
   "source": [
    "def train_using_gini(X_train, X_test, y_train):\n",
    "        \n",
    "        # Creating the classifier object\n",
    "        clf_gini = DecisionTreeClassifier(criterion = \"gini\", random_state = 100,max_depth=3, min_samples_leaf=5)\n",
    "        \n",
    "        X_train = X_train.values.reshape(-1, 1)\n",
    "        # Performing training\n",
    "        clf_gini.fit(X_train, y_train)\n",
    "        return clf_gini"
   ]
  },
  {
   "cell_type": "markdown",
   "metadata": {},
   "source": [
    "Perform training with entropy"
   ]
  },
  {
   "cell_type": "code",
   "execution_count": 86,
   "metadata": {},
   "outputs": [],
   "source": [
    "def train_using_entropy(X_train, X_test, y_train):\n",
    "        \n",
    "        # Decision tree with entropy\n",
    "        clf_entropy = DecisionTreeClassifier(criterion = \"entropy\", random_state = 100,max_depth = 3, min_samples_leaf = 5)\n",
    "        \n",
    "        X_train = X_train.values.reshape(-1, 1)\n",
    "        # Performing training\n",
    "        clf_entropy.fit(X_train, y_train)\n",
    "        return clf_entropy"
   ]
  },
  {
   "cell_type": "markdown",
   "metadata": {},
   "source": [
    "Make predictions"
   ]
  },
  {
   "cell_type": "code",
   "execution_count": 87,
   "metadata": {},
   "outputs": [],
   "source": [
    "def prediction(X_test, clf_object):\n",
    "    X_test = X_test.values.reshape(-1, 1)\n",
    "    # Predicton on test with giniIndex\n",
    "    y_pred = clf_object.predict(X_test)\n",
    "    print(\"Predicted values:\")\n",
    "    print(y_pred)\n",
    "    return y_pred"
   ]
  },
  {
   "cell_type": "markdown",
   "metadata": {},
   "source": [
    "Calculate accuracy"
   ]
  },
  {
   "cell_type": "code",
   "execution_count": 88,
   "metadata": {},
   "outputs": [],
   "source": [
    "def cal_accuracy(y_test, y_pred):\n",
    "    y_test = y_test.values.reshape(-1, 1)\n",
    "    y_pred = y_pred.reshape(-1, 1)\n",
    "    print(\"Confusion Matrix: \",\n",
    "        confusion_matrix(y_test, y_pred))\n",
    "      \n",
    "    print (\"Accuracy : \",\n",
    "    accuracy_score(y_test,y_pred)*100)\n",
    "      \n",
    "    print(\"Report : \",\n",
    "    classification_report(y_test, y_pred))"
   ]
  },
  {
   "cell_type": "markdown",
   "metadata": {},
   "source": [
    "Driver code"
   ]
  },
  {
   "cell_type": "code",
   "execution_count": 89,
   "metadata": {},
   "outputs": [
    {
     "name": "stdout",
     "output_type": "stream",
     "text": [
      "Results Using Gini Index:\n",
      "Predicted values:\n",
      "[[1 2 0 0]\n",
      " [1 2 0 0]\n",
      " [1 2 0 0]\n",
      " [1 2 0 0]\n",
      " [1 2 0 0]]\n",
      "Confusion Matrix:  [[4 2 1]\n",
      " [6 1 2]\n",
      " [0 2 2]]\n",
      "Accuracy :  35.0\n",
      "Report :                precision    recall  f1-score   support\n",
      "\n",
      "           0       0.40      0.57      0.47         7\n",
      "           1       0.20      0.11      0.14         9\n",
      "           2       0.40      0.50      0.44         4\n",
      "\n",
      "    accuracy                           0.35        20\n",
      "   macro avg       0.33      0.39      0.35        20\n",
      "weighted avg       0.31      0.35      0.32        20\n",
      "\n",
      "Results Using Entropy:\n",
      "Predicted values:\n",
      "[[1 2 0 0]\n",
      " [1 2 0 0]\n",
      " [1 2 0 0]\n",
      " [1 2 0 0]\n",
      " [1 2 0 0]]\n",
      "Confusion Matrix:  [[4 2 1]\n",
      " [6 1 2]\n",
      " [0 2 2]]\n",
      "Accuracy :  35.0\n",
      "Report :                precision    recall  f1-score   support\n",
      "\n",
      "           0       0.40      0.57      0.47         7\n",
      "           1       0.20      0.11      0.14         9\n",
      "           2       0.40      0.50      0.44         4\n",
      "\n",
      "    accuracy                           0.35        20\n",
      "   macro avg       0.33      0.39      0.35        20\n",
      "weighted avg       0.31      0.35      0.32        20\n",
      "\n"
     ]
    }
   ],
   "source": [
    "\n",
    "data = importdata()\n",
    "data = use_labelEncoder(data)\n",
    "# print(\"Data after LabelEncoder\\n\",data)\n",
    "X, Y, X_train, X_test, y_train, y_test = splitdataset(data)\n",
    "clf_gini = train_using_gini(X_train, X_test, y_train)\n",
    "clf_entropy = train_using_entropy(X_train, X_test, y_train)\n",
    "\n",
    "\n",
    "\n",
    "# Operational Phase\n",
    "print(\"Results Using Gini Index:\")\n",
    "# Prediction using gini\n",
    "y_pred_gini = prediction(X_test, clf_gini)\n",
    "cal_accuracy(y_test, y_pred_gini)\n",
    "\n",
    "\n",
    "print(\"Results Using Entropy:\")\n",
    "# Prediction using entropy\n",
    "y_pred_entropy = prediction(X_test, clf_entropy)\n",
    "cal_accuracy(y_test, y_pred_entropy)"
   ]
  }
 ],
 "metadata": {
  "kernelspec": {
   "display_name": "Python 3.10.4 64-bit",
   "language": "python",
   "name": "python3"
  },
  "language_info": {
   "codemirror_mode": {
    "name": "ipython",
    "version": 3
   },
   "file_extension": ".py",
   "mimetype": "text/x-python",
   "name": "python",
   "nbconvert_exporter": "python",
   "pygments_lexer": "ipython3",
   "version": "3.10.4"
  },
  "orig_nbformat": 4,
  "vscode": {
   "interpreter": {
    "hash": "fbc768028c3e6ead51d9a200ddcb2ec858ae62844dcd1994729a8279be9b48f2"
   }
  }
 },
 "nbformat": 4,
 "nbformat_minor": 2
}
